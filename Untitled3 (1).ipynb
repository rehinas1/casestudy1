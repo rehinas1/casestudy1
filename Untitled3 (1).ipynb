{
 "cells": [
  {
   "cell_type": "markdown",
   "metadata": {},
   "source": [
    "# ans 1"
   ]
  },
  {
   "cell_type": "code",
   "execution_count": 1,
   "metadata": {},
   "outputs": [
    {
     "name": "stdout",
     "output_type": "stream",
     "text": [
      "enter the mark:65\n",
      "your grade is B\n"
     ]
    }
   ],
   "source": [
    "num=int(input(\"enter the mark:\"))\n",
    "if num<25:\n",
    "    print(\"your grade is F\")\n",
    "elif num>=25 and num<=45:\n",
    "    print(\"your grade is E\")\n",
    "elif num>=46 and num<=50:\n",
    "    print(\"your grade is D\")  \n",
    "elif num>=51 and num<=60:\n",
    "    print(\"your grade is C\") \n",
    "elif num>=61 and num<=80:\n",
    "    print(\"your grade is B\")\n",
    "elif num>=81 and num<=100:\n",
    "    print(\"your grade is A\") \n",
    "else:\n",
    "    print(\"enter correct mark\")      \n",
    "    "
   ]
  },
  {
   "cell_type": "markdown",
   "metadata": {},
   "source": [
    "# ans 2 "
   ]
  },
  {
   "cell_type": "code",
   "execution_count": 2,
   "metadata": {},
   "outputs": [
    {
     "name": "stdout",
     "output_type": "stream",
     "text": [
      "enter the length:4\n",
      "enter the breadth:4\n",
      "its square.\n"
     ]
    }
   ],
   "source": [
    "num=float(input(\"enter the length:\"))\n",
    "num2=float(input(\"enter the breadth:\"))\n",
    "if num==num2:\n",
    "    print(\"its square.\")\n",
    "else:\n",
    "    print(\"not square\")"
   ]
  },
  {
   "cell_type": "markdown",
   "metadata": {},
   "source": [
    "# ans 4"
   ]
  },
  {
   "cell_type": "code",
   "execution_count": 3,
   "metadata": {},
   "outputs": [
    {
     "name": "stdout",
     "output_type": "stream",
     "text": [
      "number of class held:100\n",
      "number of class attend:65\n",
      "percentage of attandance= 65.0 % you are not allowed to sit.\n"
     ]
    }
   ],
   "source": [
    "num=int(input(\"number of class held:\"))\n",
    "num1=int(input(\"number of class attend:\"))\n",
    "percentage=num/100*num1\n",
    "if percentage < 75:\n",
    "    print(\"percentage of attandance=\",percentage,\"% you are not allowed to sit.\")\n",
    "else:\n",
    "    (\"percentage of attandance=\",percentage,\"% you are  allowed to sit.\")"
   ]
  },
  {
   "cell_type": "markdown",
   "metadata": {},
   "source": [
    "# ans9"
   ]
  },
  {
   "cell_type": "code",
   "execution_count": 26,
   "metadata": {},
   "outputs": [
    {
     "name": "stdout",
     "output_type": "stream",
     "text": [
      "Enter the lower bound: 11\n",
      "Enter the upper bound: 25\n",
      "Prime numbers between 11 and 25 are:\n",
      "11 13 17 19 23 "
     ]
    }
   ],
   "source": [
    "start = int(input(\"Enter the lower bound: \"))\n",
    "stop = int(input(\"Enter the upper bound: \"))\n",
    "print(\"Prime numbers between\", start, \"and\", stop, \"are:\")\n",
    "for i in range(start, stop):\n",
    "    if i > 1:\n",
    "        for j in range(2, i):\n",
    "            if (i % j) == 0:\n",
    "                 break\n",
    "        else:\n",
    "            print(i, end=\" \")"
   ]
  },
  {
   "cell_type": "code",
   "execution_count": null,
   "metadata": {},
   "outputs": [],
   "source": []
  },
  {
   "cell_type": "markdown",
   "metadata": {},
   "source": [
    "# ans10\n"
   ]
  },
  {
   "cell_type": "code",
   "execution_count": 27,
   "metadata": {},
   "outputs": [
    {
     "name": "stdout",
     "output_type": "stream",
     "text": [
      "enter the range 10\n",
      "Fibonacci sequence:\n",
      "0\n",
      "1\n",
      "1\n",
      "2\n",
      "3\n",
      "5\n",
      "8\n",
      "13\n",
      "21\n",
      "34\n"
     ]
    }
   ],
   "source": [
    "range = int(input(\"enter the range \"))\n",
    "n1, n2 = 0, 1\n",
    "count = 0\n",
    "if range <= 0:\n",
    "    print(\"Please enter a positive integer\")\n",
    "elif range == 1:\n",
    "    print(\"Fibonacci sequence upto:\")\n",
    "    print(n1)\n",
    "else:\n",
    "    print(\"Fibonacci sequence:\")\n",
    "    while count < range:\n",
    "        print(n1)\n",
    "        nth = n1 + n2\n",
    "        n1 = n2\n",
    "        n2 = nth\n",
    "        count += 1\n",
    "\n",
    "\n",
    "\n",
    "   \n"
   ]
  },
  {
   "cell_type": "code",
   "execution_count": null,
   "metadata": {},
   "outputs": [],
   "source": []
  }
 ],
 "metadata": {
  "kernelspec": {
   "display_name": "Python 3",
   "language": "python",
   "name": "python3"
  },
  "language_info": {
   "codemirror_mode": {
    "name": "ipython",
    "version": 3
   },
   "file_extension": ".py",
   "mimetype": "text/x-python",
   "name": "python",
   "nbconvert_exporter": "python",
   "pygments_lexer": "ipython3",
   "version": "3.6.5"
  }
 },
 "nbformat": 4,
 "nbformat_minor": 2
}
